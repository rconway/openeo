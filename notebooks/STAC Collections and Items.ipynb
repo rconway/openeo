{
 "cells": [
  {
   "cell_type": "markdown",
   "id": "402f34ff-0704-4222-9697-8ac276938a6c",
   "metadata": {},
   "source": [
    "# STAC Collections and Items\n",
    "\n",
    "Ref. https://open-eo.github.io/openeo-python-client/cookbook/localprocessing.html#stac-collections-and-items"
   ]
  },
  {
   "cell_type": "code",
   "execution_count": null,
   "id": "77fa3507-6f21-4409-8bc2-48011c31aa5f",
   "metadata": {},
   "outputs": [],
   "source": [
    "from openeo.local import LocalConnection"
   ]
  },
  {
   "cell_type": "code",
   "execution_count": null,
   "id": "a9c565ba-687d-42f6-bfa5-21033c29e75d",
   "metadata": {},
   "outputs": [],
   "source": [
    "local_conn = LocalConnection(\"./\")"
   ]
  },
  {
   "cell_type": "code",
   "execution_count": null,
   "id": "6fe388fd-8303-4ec1-b202-9ffdac2e2945",
   "metadata": {},
   "outputs": [],
   "source": [
    "url = \"https://earth-search.aws.element84.com/v1/collections/sentinel-2-l2a\"\n",
    "spatial_extent = {\"west\": 11, \"east\": 12, \"south\": 46, \"north\": 47}\n",
    "temporal_extent = [\"2019-01-01\", \"2019-06-15\"]\n",
    "bands = [\"red\"]\n",
    "properties = {\"eo:cloud_cover\": dict(lt=50)}"
   ]
  },
  {
   "cell_type": "code",
   "execution_count": null,
   "id": "a431a6fb-aa01-4f9b-836e-bf1537fc9054",
   "metadata": {},
   "outputs": [],
   "source": [
    "s2_cube = local_conn.load_stac(url=url,\n",
    "   spatial_extent=spatial_extent,\n",
    "   temporal_extent=temporal_extent,\n",
    "   bands=bands,\n",
    "   properties=properties,\n",
    ")"
   ]
  },
  {
   "cell_type": "code",
   "execution_count": null,
   "id": "6e358ee4-3e55-4351-be3e-a9c844aea5ed",
   "metadata": {},
   "outputs": [],
   "source": [
    "result = s2_cube.execute()"
   ]
  },
  {
   "cell_type": "code",
   "execution_count": null,
   "id": "e4609766-8422-4aac-ba5e-905ede7bc86e",
   "metadata": {},
   "outputs": [],
   "source": [
    "print(result)"
   ]
  }
 ],
 "metadata": {
  "kernelspec": {
   "display_name": "Python 3 (ipykernel)",
   "language": "python",
   "name": "python3"
  },
  "language_info": {
   "codemirror_mode": {
    "name": "ipython",
    "version": 3
   },
   "file_extension": ".py",
   "mimetype": "text/x-python",
   "name": "python",
   "nbconvert_exporter": "python",
   "pygments_lexer": "ipython3",
   "version": "3.11.5"
  }
 },
 "nbformat": 4,
 "nbformat_minor": 5
}
