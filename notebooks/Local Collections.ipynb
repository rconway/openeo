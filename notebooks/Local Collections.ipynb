{
 "cells": [
  {
   "cell_type": "markdown",
   "id": "69f10506-9cf5-466c-9c60-ec2ce702ead0",
   "metadata": {},
   "source": [
    "# Local Collections\n",
    "\n",
    "Ref. https://open-eo.github.io/openeo-python-client/cookbook/localprocessing.html#local-collections"
   ]
  },
  {
   "cell_type": "code",
   "execution_count": null,
   "id": "eba58eba-d1ee-4c9d-937d-b2b98e683a93",
   "metadata": {},
   "outputs": [],
   "source": [
    "from openeo.local import LocalConnection"
   ]
  },
  {
   "cell_type": "code",
   "execution_count": null,
   "id": "4f788e65-b603-47f2-9835-000911b91411",
   "metadata": {},
   "outputs": [],
   "source": [
    "local_data_folders = [\n",
    "    \"../openeo-localprocessing-data/sample_netcdf\",\n",
    "    \"../openeo-localprocessing-data/sample_geotiff\",\n",
    "]"
   ]
  },
  {
   "cell_type": "code",
   "execution_count": null,
   "id": "fd14f7fb-3edd-433e-bea8-1aec0dc68101",
   "metadata": {},
   "outputs": [],
   "source": [
    "local_conn = LocalConnection(local_data_folders)\n",
    "result = local_conn.list_collections()"
   ]
  },
  {
   "cell_type": "code",
   "execution_count": null,
   "id": "764acf59-9c63-4d76-a553-8d06c610aede",
   "metadata": {},
   "outputs": [],
   "source": [
    "import json\n",
    "print(json.dumps(result, indent=2))"
   ]
  }
 ],
 "metadata": {
  "kernelspec": {
   "display_name": "Python 3 (ipykernel)",
   "language": "python",
   "name": "python3"
  },
  "language_info": {
   "codemirror_mode": {
    "name": "ipython",
    "version": 3
   },
   "file_extension": ".py",
   "mimetype": "text/x-python",
   "name": "python",
   "nbconvert_exporter": "python",
   "pygments_lexer": "ipython3",
   "version": "3.11.5"
  }
 },
 "nbformat": 4,
 "nbformat_minor": 5
}
