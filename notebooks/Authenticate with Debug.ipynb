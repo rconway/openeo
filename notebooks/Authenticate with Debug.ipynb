{
 "cells": [
  {
   "cell_type": "markdown",
   "id": "45bf0bdd-2929-4860-a9dc-e75ba7be2b89",
   "metadata": {},
   "source": [
    "# Authenticate with Debug"
   ]
  },
  {
   "cell_type": "code",
   "execution_count": null,
   "id": "d5727783-322d-4a93-a7ea-4fe204e7786d",
   "metadata": {},
   "outputs": [],
   "source": [
    "import openeo\n",
    "import logging\n",
    "import sys"
   ]
  },
  {
   "cell_type": "code",
   "execution_count": null,
   "id": "b191037a-0923-4a25-96b3-824affe7818d",
   "metadata": {},
   "outputs": [],
   "source": [
    "# Turn on debug log\n",
    "root = logging.getLogger()\n",
    "root.setLevel(logging.DEBUG)\n",
    "handler = logging.StreamHandler(sys.stdout)\n",
    "handler.setLevel(logging.DEBUG)\n",
    "formatter = logging.Formatter('%(asctime)s - %(name)s - %(levelname)s - %(message)s')\n",
    "handler.setFormatter(formatter)\n",
    "root.addHandler(handler)"
   ]
  },
  {
   "cell_type": "code",
   "execution_count": null,
   "id": "e2df1a0b-046d-4817-a4fd-ecb030c91a47",
   "metadata": {},
   "outputs": [],
   "source": [
    "# Connect to openEO back-end.\n",
    "connection = openeo.connect(\"openeo.vito.be\").authenticate_oidc()"
   ]
  },
  {
   "cell_type": "code",
   "execution_count": null,
   "id": "19795084-9e5d-4359-a9ed-bd639baae803",
   "metadata": {},
   "outputs": [],
   "source": [
    "print(connection)"
   ]
  }
 ],
 "metadata": {
  "kernelspec": {
   "display_name": "Python 3 (ipykernel)",
   "language": "python",
   "name": "python3"
  },
  "language_info": {
   "codemirror_mode": {
    "name": "ipython",
    "version": 3
   },
   "file_extension": ".py",
   "mimetype": "text/x-python",
   "name": "python",
   "nbconvert_exporter": "python",
   "pygments_lexer": "ipython3",
   "version": "3.11.5"
  }
 },
 "nbformat": 4,
 "nbformat_minor": 5
}
